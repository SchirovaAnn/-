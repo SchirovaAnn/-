{
 "cells": [
  {
   "cell_type": "code",
   "execution_count": 1,
   "metadata": {
    "id": "south-pontiac"
   },
   "outputs": [],
   "source": [
    "import folium\n",
    "import pandas as pd\n",
    "import json\n",
    "import requests\n",
    "import time"
   ]
  },
  {
   "cell_type": "markdown",
   "metadata": {},
   "source": [
    "В файле admin_level_4.geojson хранятся данные для отрисовки контуров регионов "
   ]
  },
  {
   "cell_type": "code",
   "execution_count": 2,
   "metadata": {
    "id": "disabled-semiconductor"
   },
   "outputs": [],
   "source": [
    "with open('admin_level_4.geojson', encoding='utf-8') as json_file:\n",
    "    data = json.load(json_file)"
   ]
  },
  {
   "cell_type": "markdown",
   "metadata": {},
   "source": [
    "Извлечем инф-ию о том, какой номер в данном файле соответствует каждому региону"
   ]
  },
  {
   "cell_type": "code",
   "execution_count": null,
   "metadata": {
    "id": "familiar-oracle"
   },
   "outputs": [],
   "source": [
    "region_id = []\n",
    "reg_list = data['features'][1:]\n",
    "for el in reg_list:\n",
    "    region_id.append((el['name'], el['id'])) "
   ]
  },
  {
   "cell_type": "code",
   "execution_count": null,
   "metadata": {
    "id": "accepting-brunei",
    "outputId": "ae8f7744-84ee-4a70-8bca-ef59eddeb9df"
   },
   "outputs": [
    {
     "data": {
      "text/plain": [
       "[('Камчатский край', 151233),\n",
       " ('Мурманская область', 2099216),\n",
       " ('Пермский край', 115135),\n",
       " ('Свердловская область', 79379),\n",
       " ('Вологодская область', 115106),\n",
       " ('Владимирская область', 72197),\n",
       " ('Калининградская область', 103906),\n",
       " ('Челябинская область', 77687),\n",
       " ('Новгородская область', 89331),\n",
       " ('Республика Крым', 3795586),\n",
       " ('Севастополь', 3788485),\n",
       " ('Севастополь', 1574364),\n",
       " ('Автономна Республіка Крим', 72639),\n",
       " ('Ингушетия', 253252),\n",
       " ('Тверская область', 2095259),\n",
       " ('Сахалинская область', 394235),\n",
       " ('Калужская область', 81995),\n",
       " ('Самарская область', 72194),\n",
       " ('Ивановская область', 85617),\n",
       " ('Орловская область', 72224),\n",
       " ('Смоленская область', 81996),\n",
       " ('Тульская область', 81993),\n",
       " ('Чукотский автономный округ', 151231),\n",
       " ('Томская область', 140295),\n",
       " ('Приморский край', 151225),\n",
       " ('Республика Карелия', 393980),\n",
       " ('Архангельская область', 140337),\n",
       " ('Мордовия', 72196),\n",
       " ('Ульяновская область', 72192),\n",
       " ('Волгоградская область', 77665),\n",
       " ('Астраханская область', 112819),\n",
       " ('Курская область', 72223),\n",
       " ('Воронежская область', 72181),\n",
       " ('Ярославская область', 81994),\n",
       " ('Новосибирская область', 140294),\n",
       " ('Ненецкий автономный округ', 274048),\n",
       " ('Республика Коми', 115136),\n",
       " ('Омская область', 140292),\n",
       " ('Башкортостан', 77677),\n",
       " ('Оренбургская область', 77669),\n",
       " ('Еврейская автономная область', 147167),\n",
       " ('Удмуртия', 115134),\n",
       " ('Татарстан', 79374),\n",
       " ('Калмыкия', 108083),\n",
       " ('Санкт-Петербург', 337422),\n",
       " ('Нижегородская область', 72195),\n",
       " ('Ленинградская область', 176095),\n",
       " ('Кировская область', 115100),\n",
       " ('Костромская область', 85963),\n",
       " ('Брянская область', 81997),\n",
       " ('Псковская область', 155262),\n",
       " ('Саратовская область', 72193),\n",
       " ('Пензенская область', 72182),\n",
       " ('Липецкая область', 72169),\n",
       " ('Амурская область', 147166),\n",
       " ('Северная Осетия - Алания', 110032),\n",
       " ('Дагестан', 109876),\n",
       " ('Чеченская республика', 109877),\n",
       " ('Хабаровский край', 151223),\n",
       " ('Магаданская область', 151228),\n",
       " ('Ямало-Ненецкий автономный округ', 191706),\n",
       " ('Ханты-Мансийский автономный округ - Югра', 140296),\n",
       " ('Московская область', 51490),\n",
       " ('Москва', 102269),\n",
       " ('Ставропольский край', 108081),\n",
       " ('Ростовская область', 85606),\n",
       " ('Краснодарский край', 108082),\n",
       " ('Адыгея', 253256),\n",
       " ('Тамбовская область', 72180),\n",
       " ('Рязанская область', 71950),\n",
       " ('Кемеровская область', 144763),\n",
       " ('Республика Хакасия', 190911),\n",
       " ('Алтайский край', 144764),\n",
       " ('Республика Алтай', 145194),\n",
       " ('Забайкальский край', 145730),\n",
       " ('Марий Эл', 115114),\n",
       " ('Чувашия', 80513),\n",
       " ('Белгородская область', 83184),\n",
       " ('Республика Саха (Якутия)', 151234),\n",
       " ('Курганская область', 140290),\n",
       " ('Тюменская область', 140291),\n",
       " ('Тыва', 145195),\n",
       " ('Красноярский край', 190090),\n",
       " ('Бурятия', 145729),\n",
       " ('Иркутская область', 145454),\n",
       " ('Кабардино-Балкария', 109879),\n",
       " ('Карачаево-Черкесия', 109878)]"
      ]
     },
     "execution_count": 108,
     "metadata": {
      "tags": []
     },
     "output_type": "execute_result"
    }
   ],
   "source": [
    "region_id"
   ]
  },
  {
   "cell_type": "code",
   "execution_count": null,
   "metadata": {
    "id": "ambient-newark"
   },
   "outputs": [],
   "source": [
    "region_id_df = pd.DataFrame(region_id)"
   ]
  },
  {
   "cell_type": "code",
   "execution_count": null,
   "metadata": {
    "id": "brief-business",
    "outputId": "9cc32983-dc89-4b08-f610-b086935b8b31"
   },
   "outputs": [
    {
     "data": {
      "text/html": [
       "<div>\n",
       "<style scoped>\n",
       "    .dataframe tbody tr th:only-of-type {\n",
       "        vertical-align: middle;\n",
       "    }\n",
       "\n",
       "    .dataframe tbody tr th {\n",
       "        vertical-align: top;\n",
       "    }\n",
       "\n",
       "    .dataframe thead th {\n",
       "        text-align: right;\n",
       "    }\n",
       "</style>\n",
       "<table border=\"1\" class=\"dataframe\">\n",
       "  <thead>\n",
       "    <tr style=\"text-align: right;\">\n",
       "      <th></th>\n",
       "      <th>region</th>\n",
       "      <th>region_id</th>\n",
       "    </tr>\n",
       "  </thead>\n",
       "  <tbody>\n",
       "    <tr>\n",
       "      <th>0</th>\n",
       "      <td>Камчатский край</td>\n",
       "      <td>151233</td>\n",
       "    </tr>\n",
       "    <tr>\n",
       "      <th>1</th>\n",
       "      <td>Мурманская область</td>\n",
       "      <td>2099216</td>\n",
       "    </tr>\n",
       "    <tr>\n",
       "      <th>2</th>\n",
       "      <td>Пермский край</td>\n",
       "      <td>115135</td>\n",
       "    </tr>\n",
       "    <tr>\n",
       "      <th>3</th>\n",
       "      <td>Свердловская область</td>\n",
       "      <td>79379</td>\n",
       "    </tr>\n",
       "    <tr>\n",
       "      <th>4</th>\n",
       "      <td>Вологодская область</td>\n",
       "      <td>115106</td>\n",
       "    </tr>\n",
       "    <tr>\n",
       "      <th>...</th>\n",
       "      <td>...</td>\n",
       "      <td>...</td>\n",
       "    </tr>\n",
       "    <tr>\n",
       "      <th>82</th>\n",
       "      <td>Красноярский край</td>\n",
       "      <td>190090</td>\n",
       "    </tr>\n",
       "    <tr>\n",
       "      <th>83</th>\n",
       "      <td>Бурятия</td>\n",
       "      <td>145729</td>\n",
       "    </tr>\n",
       "    <tr>\n",
       "      <th>84</th>\n",
       "      <td>Иркутская область</td>\n",
       "      <td>145454</td>\n",
       "    </tr>\n",
       "    <tr>\n",
       "      <th>85</th>\n",
       "      <td>Кабардино-Балкария</td>\n",
       "      <td>109879</td>\n",
       "    </tr>\n",
       "    <tr>\n",
       "      <th>86</th>\n",
       "      <td>Карачаево-Черкесия</td>\n",
       "      <td>109878</td>\n",
       "    </tr>\n",
       "  </tbody>\n",
       "</table>\n",
       "<p>87 rows × 2 columns</p>\n",
       "</div>"
      ],
      "text/plain": [
       "                  region  region_id\n",
       "0        Камчатский край     151233\n",
       "1     Мурманская область    2099216\n",
       "2          Пермский край     115135\n",
       "3   Свердловская область      79379\n",
       "4    Вологодская область     115106\n",
       "..                   ...        ...\n",
       "82     Красноярский край     190090\n",
       "83               Бурятия     145729\n",
       "84     Иркутская область     145454\n",
       "85    Кабардино-Балкария     109879\n",
       "86    Карачаево-Черкесия     109878\n",
       "\n",
       "[87 rows x 2 columns]"
      ]
     },
     "execution_count": 61,
     "metadata": {
      "tags": []
     },
     "output_type": "execute_result"
    }
   ],
   "source": [
    "region_id_df.columns = ['region', 'region_id']\n",
    "region_id_df"
   ]
  },
  {
   "cell_type": "markdown",
   "metadata": {},
   "source": [
    "У нас имеется заранее подготовленная таблица с поступающей к нам информацией о кол-ве продаж кофе (три определенные марки, взятые для анализа) за последний месяц по магазинам (есть shop_id, координаты, адрес, название магазина). \n",
    "\n",
    "Предоставить сам файл shop.csv не представляется возможным в связи с политикой конфеденциальности компании."
   ]
  },
  {
   "cell_type": "code",
   "execution_count": null,
   "metadata": {
    "id": "gorgeous-sullivan",
    "outputId": "dd958b65-ed93-42c6-d868-a13ef10b93a6"
   },
   "outputs": [
    {
     "data": {
      "text/html": [
       "<div>\n",
       "<style scoped>\n",
       "    .dataframe tbody tr th:only-of-type {\n",
       "        vertical-align: middle;\n",
       "    }\n",
       "\n",
       "    .dataframe tbody tr th {\n",
       "        vertical-align: top;\n",
       "    }\n",
       "\n",
       "    .dataframe thead th {\n",
       "        text-align: right;\n",
       "    }\n",
       "</style>\n",
       "<table border=\"1\" class=\"dataframe\">\n",
       "  <thead>\n",
       "    <tr style=\"text-align: right;\">\n",
       "      <th></th>\n",
       "      <th>shop_id</th>\n",
       "      <th>st_x</th>\n",
       "      <th>st_y</th>\n",
       "      <th>address</th>\n",
       "      <th>title</th>\n",
       "      <th>count_sales</th>\n",
       "    </tr>\n",
       "  </thead>\n",
       "  <tbody>\n",
       "    <tr>\n",
       "      <th>0</th>\n",
       "      <td>26775268</td>\n",
       "      <td>82.958641</td>\n",
       "      <td>55.042546</td>\n",
       "      <td>ул. Кошурникова, 9, Новосибирск, Новосибирская...</td>\n",
       "      <td>АО \"Тандер\"</td>\n",
       "      <td>1</td>\n",
       "    </tr>\n",
       "    <tr>\n",
       "      <th>1</th>\n",
       "      <td>27428909</td>\n",
       "      <td>30.315868</td>\n",
       "      <td>59.939095</td>\n",
       "      <td>Санкт-Петербург и область</td>\n",
       "      <td>Перекрёсток Впрок Санкт-Петербург</td>\n",
       "      <td>271</td>\n",
       "    </tr>\n",
       "    <tr>\n",
       "      <th>2</th>\n",
       "      <td>25371835</td>\n",
       "      <td>60.367462</td>\n",
       "      <td>54.982973</td>\n",
       "      <td>ул. Мира, 2, Чебаркуль, Челябинская обл., Росс...</td>\n",
       "      <td>Агроторг ООО</td>\n",
       "      <td>1</td>\n",
       "    </tr>\n",
       "    <tr>\n",
       "      <th>3</th>\n",
       "      <td>23845460</td>\n",
       "      <td>37.542359</td>\n",
       "      <td>55.373815</td>\n",
       "      <td>Театральная ул., 6, Климовск, Московская обл.,...</td>\n",
       "      <td>Агроторг ООО</td>\n",
       "      <td>1</td>\n",
       "    </tr>\n",
       "    <tr>\n",
       "      <th>4</th>\n",
       "      <td>24663144</td>\n",
       "      <td>37.358563</td>\n",
       "      <td>54.901168</td>\n",
       "      <td>ул. Спортивная, 21, Большевик, Московская обл....</td>\n",
       "      <td>X589 11622-Пятерочка</td>\n",
       "      <td>1</td>\n",
       "    </tr>\n",
       "  </tbody>\n",
       "</table>\n",
       "</div>"
      ],
      "text/plain": [
       "    shop_id       st_x       st_y  \\\n",
       "0  26775268  82.958641  55.042546   \n",
       "1  27428909  30.315868  59.939095   \n",
       "2  25371835  60.367462  54.982973   \n",
       "3  23845460  37.542359  55.373815   \n",
       "4  24663144  37.358563  54.901168   \n",
       "\n",
       "                                             address  \\\n",
       "0  ул. Кошурникова, 9, Новосибирск, Новосибирская...   \n",
       "1                          Санкт-Петербург и область   \n",
       "2  ул. Мира, 2, Чебаркуль, Челябинская обл., Росс...   \n",
       "3  Театральная ул., 6, Климовск, Московская обл.,...   \n",
       "4  ул. Спортивная, 21, Большевик, Московская обл....   \n",
       "\n",
       "                               title  count_sales  \n",
       "0                        АО \"Тандер\"            1  \n",
       "1  Перекрёсток Впрок Санкт-Петербург          271  \n",
       "2                       Агроторг ООО            1  \n",
       "3                       Агроторг ООО            1  \n",
       "4               X589 11622-Пятерочка            1  "
      ]
     },
     "execution_count": 32,
     "metadata": {
      "tags": []
     },
     "output_type": "execute_result"
    }
   ],
   "source": [
    "shop = pd.read_csv('shop.csv')\n",
    "shop.head()"
   ]
  },
  {
   "cell_type": "markdown",
   "metadata": {},
   "source": [
    "Определим функцию, которая по имеющимся у нас координатам магазина будет возвращать название региона (работает через api yandex)"
   ]
  },
  {
   "cell_type": "code",
   "execution_count": null,
   "metadata": {
    "id": "chicken-dutch"
   },
   "outputs": [],
   "source": [
    "apikey = your_yandex_apikey\n",
    "def fetch_region(apikey, coordinates):\n",
    "    base_url = \"https://geocode-maps.yandex.ru/1.x\"\n",
    "    params = {\"geocode\": coordinates, \"apikey\": apikey, \"format\": \"json\"}\n",
    "    response = requests.get(base_url, params=params)\n",
    "        \n",
    "    if len(response.json()[\"response\"][\"GeoObjectCollection\"][\"featureMember\"][0][\"GeoObject\"][\"metaDataProperty\"][\"GeocoderMetaData\"][\"Address\"][\"Components\"]) >= 3:\n",
    "        region = response.json()[\"response\"][\"GeoObjectCollection\"][\"featureMember\"][0][\"GeoObject\"][\"metaDataProperty\"][\"GeocoderMetaData\"][\"Address\"][\"Components\"][2][\"name\"]\n",
    "    else: \n",
    "        region = response.json()[\"response\"][\"GeoObjectCollection\"][\"featureMember\"][0][\"GeoObject\"][\"metaDataProperty\"][\"GeocoderMetaData\"][\"AddressDetails\"][\"Country\"][\"AddressLine\"]\n",
    "    \n",
    "    return region"
   ]
  },
  {
   "cell_type": "code",
   "execution_count": null,
   "metadata": {
    "id": "determined-period"
   },
   "outputs": [],
   "source": [
    "region_shop = []\n",
    "for i in range(shop.shape[0]):\n",
    "    coord = str(shop.iloc[i][1]) + ', ' + str(shop.iloc[i][2])\n",
    "    region_shop.append(fetch_region(apikey, coord))\n",
    "    time.sleep(1.1)"
   ]
  },
  {
   "cell_type": "code",
   "execution_count": null,
   "metadata": {
    "id": "incomplete-montreal",
    "outputId": "ac0d1cca-dcdb-476f-88bb-5e186d442a98"
   },
   "outputs": [
    {
     "data": {
      "text/plain": [
       "1241"
      ]
     },
     "execution_count": 48,
     "metadata": {
      "tags": []
     },
     "output_type": "execute_result"
    }
   ],
   "source": [
    "len(region_shop)"
   ]
  },
  {
   "cell_type": "markdown",
   "metadata": {},
   "source": [
    "Добавим столбец с названием региона"
   ]
  },
  {
   "cell_type": "code",
   "execution_count": null,
   "metadata": {
    "id": "another-breach"
   },
   "outputs": [],
   "source": [
    "shop['region'] = region_shop"
   ]
  },
  {
   "cell_type": "code",
   "execution_count": null,
   "metadata": {
    "id": "innocent-release",
    "outputId": "aae555fb-d654-4901-893a-b5273455d3b7"
   },
   "outputs": [
    {
     "data": {
      "text/html": [
       "<div>\n",
       "<style scoped>\n",
       "    .dataframe tbody tr th:only-of-type {\n",
       "        vertical-align: middle;\n",
       "    }\n",
       "\n",
       "    .dataframe tbody tr th {\n",
       "        vertical-align: top;\n",
       "    }\n",
       "\n",
       "    .dataframe thead th {\n",
       "        text-align: right;\n",
       "    }\n",
       "</style>\n",
       "<table border=\"1\" class=\"dataframe\">\n",
       "  <thead>\n",
       "    <tr style=\"text-align: right;\">\n",
       "      <th></th>\n",
       "      <th>shop_id</th>\n",
       "      <th>st_x</th>\n",
       "      <th>st_y</th>\n",
       "      <th>address</th>\n",
       "      <th>title</th>\n",
       "      <th>count_sales</th>\n",
       "      <th>region</th>\n",
       "    </tr>\n",
       "  </thead>\n",
       "  <tbody>\n",
       "    <tr>\n",
       "      <th>0</th>\n",
       "      <td>26775268</td>\n",
       "      <td>82.958641</td>\n",
       "      <td>55.042546</td>\n",
       "      <td>ул. Кошурникова, 9, Новосибирск, Новосибирская...</td>\n",
       "      <td>АО \"Тандер\"</td>\n",
       "      <td>1</td>\n",
       "      <td>Новосибирская область</td>\n",
       "    </tr>\n",
       "    <tr>\n",
       "      <th>1</th>\n",
       "      <td>27428909</td>\n",
       "      <td>30.315868</td>\n",
       "      <td>59.939095</td>\n",
       "      <td>Санкт-Петербург и область</td>\n",
       "      <td>Перекрёсток Впрок Санкт-Петербург</td>\n",
       "      <td>271</td>\n",
       "      <td>Санкт-Петербург</td>\n",
       "    </tr>\n",
       "    <tr>\n",
       "      <th>2</th>\n",
       "      <td>25371835</td>\n",
       "      <td>60.367462</td>\n",
       "      <td>54.982973</td>\n",
       "      <td>ул. Мира, 2, Чебаркуль, Челябинская обл., Росс...</td>\n",
       "      <td>Агроторг ООО</td>\n",
       "      <td>1</td>\n",
       "      <td>Челябинская область</td>\n",
       "    </tr>\n",
       "    <tr>\n",
       "      <th>3</th>\n",
       "      <td>23845460</td>\n",
       "      <td>37.542359</td>\n",
       "      <td>55.373815</td>\n",
       "      <td>Театральная ул., 6, Климовск, Московская обл.,...</td>\n",
       "      <td>Агроторг ООО</td>\n",
       "      <td>1</td>\n",
       "      <td>Московская область</td>\n",
       "    </tr>\n",
       "    <tr>\n",
       "      <th>4</th>\n",
       "      <td>24663144</td>\n",
       "      <td>37.358563</td>\n",
       "      <td>54.901168</td>\n",
       "      <td>ул. Спортивная, 21, Большевик, Московская обл....</td>\n",
       "      <td>X589 11622-Пятерочка</td>\n",
       "      <td>1</td>\n",
       "      <td>Московская область</td>\n",
       "    </tr>\n",
       "    <tr>\n",
       "      <th>...</th>\n",
       "      <td>...</td>\n",
       "      <td>...</td>\n",
       "      <td>...</td>\n",
       "      <td>...</td>\n",
       "      <td>...</td>\n",
       "      <td>...</td>\n",
       "      <td>...</td>\n",
       "    </tr>\n",
       "    <tr>\n",
       "      <th>1236</th>\n",
       "      <td>23845627</td>\n",
       "      <td>36.892797</td>\n",
       "      <td>55.905026</td>\n",
       "      <td>ул. Московская, 61, Истра, Московская обл., Ро...</td>\n",
       "      <td>ООО \"Лента\"</td>\n",
       "      <td>1</td>\n",
       "      <td>Московская область</td>\n",
       "    </tr>\n",
       "    <tr>\n",
       "      <th>1237</th>\n",
       "      <td>24661823</td>\n",
       "      <td>36.661902</td>\n",
       "      <td>55.175654</td>\n",
       "      <td>ул. 50 лет Октября, 14а, Балабаново, Калужская...</td>\n",
       "      <td>ООО \"АТАК\"</td>\n",
       "      <td>1</td>\n",
       "      <td>Калужская область</td>\n",
       "    </tr>\n",
       "    <tr>\n",
       "      <th>1238</th>\n",
       "      <td>24795103</td>\n",
       "      <td>42.199131</td>\n",
       "      <td>47.528986</td>\n",
       "      <td>пр. Курчатова, 55, эт.1, Волгодонск, Ростовска...</td>\n",
       "      <td>Н523 11706-ПЯТЕРОЧКА</td>\n",
       "      <td>1</td>\n",
       "      <td>Ростовская область</td>\n",
       "    </tr>\n",
       "    <tr>\n",
       "      <th>1239</th>\n",
       "      <td>25986738</td>\n",
       "      <td>53.186367</td>\n",
       "      <td>56.880165</td>\n",
       "      <td>Школьная ул., 58а, Ижевск, республика Удмуртия...</td>\n",
       "      <td>E705 14659-Пятёрочка</td>\n",
       "      <td>2</td>\n",
       "      <td>Удмуртская Республика</td>\n",
       "    </tr>\n",
       "    <tr>\n",
       "      <th>1240</th>\n",
       "      <td>25523264</td>\n",
       "      <td>43.979698</td>\n",
       "      <td>49.302705</td>\n",
       "      <td>Иловля, Волгоградская обл., Россия, 403071</td>\n",
       "      <td>357N; 16389 - Пятёрочка</td>\n",
       "      <td>1</td>\n",
       "      <td>Волгоградская область</td>\n",
       "    </tr>\n",
       "  </tbody>\n",
       "</table>\n",
       "<p>1241 rows × 7 columns</p>\n",
       "</div>"
      ],
      "text/plain": [
       "       shop_id       st_x       st_y  \\\n",
       "0     26775268  82.958641  55.042546   \n",
       "1     27428909  30.315868  59.939095   \n",
       "2     25371835  60.367462  54.982973   \n",
       "3     23845460  37.542359  55.373815   \n",
       "4     24663144  37.358563  54.901168   \n",
       "...        ...        ...        ...   \n",
       "1236  23845627  36.892797  55.905026   \n",
       "1237  24661823  36.661902  55.175654   \n",
       "1238  24795103  42.199131  47.528986   \n",
       "1239  25986738  53.186367  56.880165   \n",
       "1240  25523264  43.979698  49.302705   \n",
       "\n",
       "                                                address  \\\n",
       "0     ул. Кошурникова, 9, Новосибирск, Новосибирская...   \n",
       "1                             Санкт-Петербург и область   \n",
       "2     ул. Мира, 2, Чебаркуль, Челябинская обл., Росс...   \n",
       "3     Театральная ул., 6, Климовск, Московская обл.,...   \n",
       "4     ул. Спортивная, 21, Большевик, Московская обл....   \n",
       "...                                                 ...   \n",
       "1236  ул. Московская, 61, Истра, Московская обл., Ро...   \n",
       "1237  ул. 50 лет Октября, 14а, Балабаново, Калужская...   \n",
       "1238  пр. Курчатова, 55, эт.1, Волгодонск, Ростовска...   \n",
       "1239  Школьная ул., 58а, Ижевск, республика Удмуртия...   \n",
       "1240         Иловля, Волгоградская обл., Россия, 403071   \n",
       "\n",
       "                                  title  count_sales                 region  \n",
       "0                           АО \"Тандер\"            1  Новосибирская область  \n",
       "1     Перекрёсток Впрок Санкт-Петербург          271        Санкт-Петербург  \n",
       "2                          Агроторг ООО            1    Челябинская область  \n",
       "3                          Агроторг ООО            1     Московская область  \n",
       "4                  X589 11622-Пятерочка            1     Московская область  \n",
       "...                                 ...          ...                    ...  \n",
       "1236                        ООО \"Лента\"            1     Московская область  \n",
       "1237                         ООО \"АТАК\"            1      Калужская область  \n",
       "1238               Н523 11706-ПЯТЕРОЧКА            1     Ростовская область  \n",
       "1239               E705 14659-Пятёрочка            2  Удмуртская Республика  \n",
       "1240            357N; 16389 - Пятёрочка            1  Волгоградская область  \n",
       "\n",
       "[1241 rows x 7 columns]"
      ]
     },
     "execution_count": 51,
     "metadata": {
      "tags": []
     },
     "output_type": "execute_result"
    }
   ],
   "source": [
    "shop"
   ]
  },
  {
   "cell_type": "code",
   "execution_count": null,
   "metadata": {
    "id": "fancy-concern",
    "outputId": "218dd493-c450-4c28-da97-4a92f594705e"
   },
   "outputs": [
    {
     "data": {
      "text/html": [
       "<div>\n",
       "<style scoped>\n",
       "    .dataframe tbody tr th:only-of-type {\n",
       "        vertical-align: middle;\n",
       "    }\n",
       "\n",
       "    .dataframe tbody tr th {\n",
       "        vertical-align: top;\n",
       "    }\n",
       "\n",
       "    .dataframe thead th {\n",
       "        text-align: right;\n",
       "    }\n",
       "</style>\n",
       "<table border=\"1\" class=\"dataframe\">\n",
       "  <thead>\n",
       "    <tr style=\"text-align: right;\">\n",
       "      <th></th>\n",
       "      <th>region</th>\n",
       "      <th>count_sales</th>\n",
       "    </tr>\n",
       "  </thead>\n",
       "  <tbody>\n",
       "    <tr>\n",
       "      <th>0</th>\n",
       "      <td>Москва</td>\n",
       "      <td>135</td>\n",
       "    </tr>\n",
       "    <tr>\n",
       "      <th>1</th>\n",
       "      <td>Московская область</td>\n",
       "      <td>109</td>\n",
       "    </tr>\n",
       "    <tr>\n",
       "      <th>2</th>\n",
       "      <td>Санкт-Петербург</td>\n",
       "      <td>90</td>\n",
       "    </tr>\n",
       "    <tr>\n",
       "      <th>3</th>\n",
       "      <td>Тюменская область</td>\n",
       "      <td>65</td>\n",
       "    </tr>\n",
       "    <tr>\n",
       "      <th>4</th>\n",
       "      <td>Свердловская область</td>\n",
       "      <td>50</td>\n",
       "    </tr>\n",
       "    <tr>\n",
       "      <th>...</th>\n",
       "      <td>...</td>\n",
       "      <td>...</td>\n",
       "    </tr>\n",
       "    <tr>\n",
       "      <th>67</th>\n",
       "      <td>Республика Бурятия</td>\n",
       "      <td>1</td>\n",
       "    </tr>\n",
       "    <tr>\n",
       "      <th>68</th>\n",
       "      <td>Курганская область</td>\n",
       "      <td>1</td>\n",
       "    </tr>\n",
       "    <tr>\n",
       "      <th>69</th>\n",
       "      <td>Приморский край</td>\n",
       "      <td>1</td>\n",
       "    </tr>\n",
       "    <tr>\n",
       "      <th>70</th>\n",
       "      <td>Амурская область</td>\n",
       "      <td>1</td>\n",
       "    </tr>\n",
       "    <tr>\n",
       "      <th>71</th>\n",
       "      <td>Республика Хакасия</td>\n",
       "      <td>1</td>\n",
       "    </tr>\n",
       "  </tbody>\n",
       "</table>\n",
       "<p>72 rows × 2 columns</p>\n",
       "</div>"
      ],
      "text/plain": [
       "                  region  count_sales\n",
       "0                 Москва          135\n",
       "1     Московская область          109\n",
       "2        Санкт-Петербург           90\n",
       "3      Тюменская область           65\n",
       "4   Свердловская область           50\n",
       "..                   ...          ...\n",
       "67    Республика Бурятия            1\n",
       "68    Курганская область            1\n",
       "69       Приморский край            1\n",
       "70      Амурская область            1\n",
       "71    Республика Хакасия            1\n",
       "\n",
       "[72 rows x 2 columns]"
      ]
     },
     "execution_count": 62,
     "metadata": {
      "tags": []
     },
     "output_type": "execute_result"
    }
   ],
   "source": [
    "our_region_id_df = shop.groupby('region')['count_sales'].count().sort_values(ascending=False).reset_index()\n",
    "our_region_id_df"
   ]
  },
  {
   "cell_type": "markdown",
   "metadata": {},
   "source": [
    "Подготовим таблицу, необходимую для отрисовки карты. В ней должна содержать инф-ия о номере региона (полученном на первом шаге из файла admin_level_4.geojson) и кол-ве продаж в данном регионе."
   ]
  },
  {
   "cell_type": "code",
   "execution_count": null,
   "metadata": {},
   "outputs": [],
   "source": [
    "DF = our_region_id_df.merge(region_id_df, on='region', how='left')\n",
    "DF = DF[['region_id', 'count_sales', 'region']]"
   ]
  },
  {
   "cell_type": "code",
   "execution_count": 6,
   "metadata": {},
   "outputs": [
    {
     "data": {
      "text/html": [
       "<div>\n",
       "<style scoped>\n",
       "    .dataframe tbody tr th:only-of-type {\n",
       "        vertical-align: middle;\n",
       "    }\n",
       "\n",
       "    .dataframe tbody tr th {\n",
       "        vertical-align: top;\n",
       "    }\n",
       "\n",
       "    .dataframe thead th {\n",
       "        text-align: right;\n",
       "    }\n",
       "</style>\n",
       "<table border=\"1\" class=\"dataframe\">\n",
       "  <thead>\n",
       "    <tr style=\"text-align: right;\">\n",
       "      <th></th>\n",
       "      <th>region_id</th>\n",
       "      <th>count_sales</th>\n",
       "      <th>region</th>\n",
       "    </tr>\n",
       "  </thead>\n",
       "  <tbody>\n",
       "    <tr>\n",
       "      <th>0</th>\n",
       "      <td>102269</td>\n",
       "      <td>135</td>\n",
       "      <td>Москва</td>\n",
       "    </tr>\n",
       "    <tr>\n",
       "      <th>1</th>\n",
       "      <td>51490</td>\n",
       "      <td>109</td>\n",
       "      <td>Московская область</td>\n",
       "    </tr>\n",
       "    <tr>\n",
       "      <th>2</th>\n",
       "      <td>337422</td>\n",
       "      <td>90</td>\n",
       "      <td>Санкт-Петербург</td>\n",
       "    </tr>\n",
       "    <tr>\n",
       "      <th>3</th>\n",
       "      <td>140291</td>\n",
       "      <td>65</td>\n",
       "      <td>Тюменская область</td>\n",
       "    </tr>\n",
       "    <tr>\n",
       "      <th>4</th>\n",
       "      <td>79379</td>\n",
       "      <td>50</td>\n",
       "      <td>Свердловская область</td>\n",
       "    </tr>\n",
       "    <tr>\n",
       "      <th>...</th>\n",
       "      <td>...</td>\n",
       "      <td>...</td>\n",
       "      <td>...</td>\n",
       "    </tr>\n",
       "    <tr>\n",
       "      <th>82</th>\n",
       "      <td>151234</td>\n",
       "      <td>1</td>\n",
       "      <td>Республика Саха (Якутия)</td>\n",
       "    </tr>\n",
       "    <tr>\n",
       "      <th>83</th>\n",
       "      <td>151228</td>\n",
       "      <td>1</td>\n",
       "      <td>Магаданская область</td>\n",
       "    </tr>\n",
       "    <tr>\n",
       "      <th>84</th>\n",
       "      <td>151231</td>\n",
       "      <td>1</td>\n",
       "      <td>Чукотский автономный округ</td>\n",
       "    </tr>\n",
       "    <tr>\n",
       "      <th>85</th>\n",
       "      <td>151233</td>\n",
       "      <td>1</td>\n",
       "      <td>Камчатский край</td>\n",
       "    </tr>\n",
       "    <tr>\n",
       "      <th>86</th>\n",
       "      <td>1574364</td>\n",
       "      <td>1</td>\n",
       "      <td>Севастополь</td>\n",
       "    </tr>\n",
       "  </tbody>\n",
       "</table>\n",
       "<p>87 rows × 3 columns</p>\n",
       "</div>"
      ],
      "text/plain": [
       "    region_id  count_sales                      region\n",
       "0      102269          135                      Москва\n",
       "1       51490          109          Московская область\n",
       "2      337422           90             Санкт-Петербург\n",
       "3      140291           65           Тюменская область\n",
       "4       79379           50        Свердловская область\n",
       "..        ...          ...                         ...\n",
       "82     151234            1    Республика Саха (Якутия)\n",
       "83     151228            1         Магаданская область\n",
       "84     151231            1  Чукотский автономный округ\n",
       "85     151233            1             Камчатский край\n",
       "86    1574364            1                 Севастополь\n",
       "\n",
       "[87 rows x 3 columns]"
      ]
     },
     "execution_count": 6,
     "metadata": {},
     "output_type": "execute_result"
    }
   ],
   "source": [
    "DF"
   ]
  },
  {
   "cell_type": "markdown",
   "metadata": {},
   "source": [
    "Создадим основной объект - карту, указав ее центр (в нашем случаем в центре будет РФ)"
   ]
  },
  {
   "cell_type": "code",
   "execution_count": null,
   "metadata": {
    "id": "balanced-motivation"
   },
   "outputs": [],
   "source": [
    "m = folium.Map(location=[63.391522, 96.328125], zoom_start=3)"
   ]
  },
  {
   "cell_type": "markdown",
   "metadata": {},
   "source": [
    "Добавим к карте регионы РФ с заполнением цветом в соответствии с кол-ом продаж по регионам – хороплет"
   ]
  },
  {
   "cell_type": "code",
   "execution_count": null,
   "metadata": {
    "id": "hired-patch"
   },
   "outputs": [],
   "source": [
    "rel_ = folium.Choropleth(\n",
    "       geo_data = data, \n",
    "       name = 'Популярность товаров',\n",
    "       data = DF,\n",
    "       columns=['region_id', 'count_sales'], \n",
    "       key_on='id',\n",
    "       bins = 5,\n",
    "       fill_color='OrRd',\n",
    "       nan_fill_color='yellow',\n",
    "       nan_fill_opacity=0.05,\n",
    "       fill_opacity=1,\n",
    "       line_opacity=0.5,\n",
    "       legend_name= 'Кол-во продаж по регионам',\n",
    "       highlight = True,\n",
    "       show = False,\n",
    ")"
   ]
  },
  {
   "cell_type": "code",
   "execution_count": null,
   "metadata": {
    "id": "metropolitan-cartridge"
   },
   "outputs": [],
   "source": [
    "# При необходимости легенду можно удалить следующим образом\n",
    "for key in rel_._children:\n",
    "    if key.startswith('color_map'):\n",
    "        del(rel_._children[key])"
   ]
  },
  {
   "cell_type": "markdown",
   "metadata": {},
   "source": [
    "Добавим хороплет к карте"
   ]
  },
  {
   "cell_type": "code",
   "execution_count": null,
   "metadata": {
    "id": "hybrid-sphere",
    "outputId": "1bc513cc-fd14-43ea-fc63-b851ac9fa765"
   },
   "outputs": [
    {
     "data": {
      "text/plain": [
       "<folium.features.Choropleth at 0x228e36aff10>"
      ]
     },
     "execution_count": 128,
     "metadata": {
      "tags": []
     },
     "output_type": "execute_result"
    }
   ],
   "source": [
    "rel_.add_to(m)"
   ]
  },
  {
   "cell_type": "markdown",
   "metadata": {},
   "source": [
    "Сохраним карту"
   ]
  },
  {
   "cell_type": "code",
   "execution_count": null,
   "metadata": {
    "id": "trying-webster"
   },
   "outputs": [],
   "source": [
    "m.save(\"map.html\")"
   ]
  }
 ],
 "metadata": {
  "colab": {
   "name": "Карта.ipynb",
   "provenance": []
  },
  "kernelspec": {
   "display_name": "Python 3",
   "language": "python",
   "name": "python3"
  },
  "language_info": {
   "codemirror_mode": {
    "name": "ipython",
    "version": 3
   },
   "file_extension": ".py",
   "mimetype": "text/x-python",
   "name": "python",
   "nbconvert_exporter": "python",
   "pygments_lexer": "ipython3",
   "version": "3.7.0"
  }
 },
 "nbformat": 4,
 "nbformat_minor": 5
}
